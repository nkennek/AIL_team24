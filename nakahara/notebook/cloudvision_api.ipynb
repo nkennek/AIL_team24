{
 "cells": [
  {
   "cell_type": "code",
   "execution_count": 1,
   "metadata": {
    "collapsed": true
   },
   "outputs": [],
   "source": [
    "%matplotlib inline\n",
    "\n",
    "import sys\n",
    "import os\n",
    "\n",
    "import cv2\n",
    "import dlib\n",
    "import numpy as np"
   ]
  },
  {
   "cell_type": "code",
   "execution_count": 2,
   "metadata": {},
   "outputs": [],
   "source": [
    "sys.path.append('../cloud_vision_api/')\n",
    "\n",
    "import goog_api"
   ]
  },
  {
   "cell_type": "code",
   "execution_count": 3,
   "metadata": {},
   "outputs": [
    {
     "data": {
      "text/plain": [
       "(200,\n",
       " {'responses': [{'labelAnnotations': [{'description': 'hair',\n",
       "      'mid': '/m/03q69',\n",
       "      'score': 0.9762308},\n",
       "     {'description': 'human hair color',\n",
       "      'mid': '/m/01ntw3',\n",
       "      'score': 0.9042405},\n",
       "     {'description': 'hairstyle', 'mid': '/m/0ds4x', 'score': 0.8919309},\n",
       "     {'description': 'shoulder', 'mid': '/m/01ssh5', 'score': 0.7958355},\n",
       "     {'description': 'boy', 'mid': '/m/01bl7v', 'score': 0.7891297},\n",
       "     {'description': 'bangs', 'mid': '/m/0gjxqj', 'score': 0.75014466},\n",
       "     {'description': 'neck', 'mid': '/m/0dzd8', 'score': 0.7415201},\n",
       "     {'description': 'wig', 'mid': '/m/01hzl4', 'score': 0.70950115},\n",
       "     {'description': 'hair coloring', 'mid': '/m/028mzr', 'score': 0.705343},\n",
       "     {'description': 'black hair', 'mid': '/m/0fc1fy', 'score': 0.7041508},\n",
       "     {'description': 'brown hair', 'mid': '/m/02ksmb', 'score': 0.6803881},\n",
       "     {'description': 'bob cut', 'mid': '/m/02fj27', 'score': 0.65692025},\n",
       "     {'description': 'long hair', 'mid': '/m/02pd__z', 'score': 0.6484772},\n",
       "     {'description': 'child model', 'mid': '/m/0bgmt1', 'score': 0.6120116},\n",
       "     {'description': 'girl', 'mid': '/m/05r655', 'score': 0.5580802},\n",
       "     {'description': 'child actor', 'mid': '/m/0mbx4', 'score': 0.5489825},\n",
       "     {'description': 'layered hair', 'mid': '/m/09spj9', 'score': 0.5392029},\n",
       "     {'description': 'product', 'mid': '/m/01jwgf', 'score': 0.5019739}]}]})"
      ]
     },
     "execution_count": 3,
     "metadata": {},
     "output_type": "execute_result"
    }
   ],
   "source": [
    "goog_api.goog_cloud_vision('../../data/download/00426538bc2d41570aaa84ebc6eaa61a7c53370d.jpg')"
   ]
  },
  {
   "cell_type": "code",
   "execution_count": null,
   "metadata": {
    "collapsed": true
   },
   "outputs": [],
   "source": []
  }
 ],
 "metadata": {
  "kernelspec": {
   "display_name": "Python 3",
   "language": "python",
   "name": "python3"
  },
  "language_info": {
   "codemirror_mode": {
    "name": "ipython",
    "version": 3
   },
   "file_extension": ".py",
   "mimetype": "text/x-python",
   "name": "python",
   "nbconvert_exporter": "python",
   "pygments_lexer": "ipython3",
   "version": "3.6.3"
  }
 },
 "nbformat": 4,
 "nbformat_minor": 2
}
